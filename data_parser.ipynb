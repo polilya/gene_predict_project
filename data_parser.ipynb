{
 "cells": [
  {
   "cell_type": "code",
   "execution_count": 1,
   "id": "7b00e8cb-3955-4ddf-b638-c4a5f58c9695",
   "metadata": {},
   "outputs": [],
   "source": [
    "from Bio import SeqIO\n",
    "import gff3_parser\n",
    "import pandas as pd"
   ]
  },
  {
   "cell_type": "code",
   "execution_count": 2,
   "id": "9a2bb0fe-f459-453f-b9bb-714e2e5a1fa9",
   "metadata": {},
   "outputs": [],
   "source": [
    "gene_data = 'genomic.gff'\n",
    "sequence_data = 'chromosome1.fasta'"
   ]
  },
  {
   "cell_type": "markdown",
   "id": "2399111f-198c-48f1-a836-bfe422efde71",
   "metadata": {},
   "source": [
    "Файл 'chromosome1.fasta' содержит **последовательность нуклеотидов** первой хромосомы человека"
   ]
  },
  {
   "cell_type": "code",
   "execution_count": 3,
   "id": "a5b53b94-8693-4a49-8937-ce9fc2fe2d7e",
   "metadata": {},
   "outputs": [],
   "source": [
    "with open(sequence_data) as file:\n",
    "    fasta_sequences = SeqIO.parse(file, 'fasta')\n",
    "    for fasta in fasta_sequences:\n",
    "        name, sequence = fasta.id, str(fasta.seq)"
   ]
  },
  {
   "cell_type": "code",
   "execution_count": 4,
   "id": "7aa2610e-def9-4cc4-b07b-963c7d438f79",
   "metadata": {},
   "outputs": [
    {
     "name": "stdout",
     "output_type": "stream",
     "text": [
      "!genome-build-accession NCBI_Assembly:GCF_000001405.40\n",
      "species https://www.ncbi.nlm.nih.gov/Taxonomy/Browser/wwwtax.cgi?id=9606\n"
     ]
    },
    {
     "name": "stderr",
     "output_type": "stream",
     "text": [
      "100%|██████████| 4719971/4719971 [00:13<00:00, 349500.51it/s]\n"
     ]
    }
   ],
   "source": [
    "data = gff3_parser.parse_gff3(gene_data)"
   ]
  },
  {
   "cell_type": "code",
   "execution_count": 5,
   "id": "e357aa58-0326-47cf-b985-593797d1099c",
   "metadata": {},
   "outputs": [
    {
     "data": {
      "text/html": [
       "<div>\n",
       "<style scoped>\n",
       "    .dataframe tbody tr th:only-of-type {\n",
       "        vertical-align: middle;\n",
       "    }\n",
       "\n",
       "    .dataframe tbody tr th {\n",
       "        vertical-align: top;\n",
       "    }\n",
       "\n",
       "    .dataframe thead th {\n",
       "        text-align: right;\n",
       "    }\n",
       "</style>\n",
       "<table border=\"1\" class=\"dataframe\">\n",
       "  <thead>\n",
       "    <tr style=\"text-align: right;\">\n",
       "      <th></th>\n",
       "      <th>Seqid</th>\n",
       "      <th>Source</th>\n",
       "      <th>Type</th>\n",
       "      <th>Start</th>\n",
       "      <th>End</th>\n",
       "      <th>Score</th>\n",
       "      <th>Strand</th>\n",
       "      <th>Phase</th>\n",
       "    </tr>\n",
       "  </thead>\n",
       "  <tbody>\n",
       "    <tr>\n",
       "      <th>0</th>\n",
       "      <td>NC_000001.11</td>\n",
       "      <td>RefSeq</td>\n",
       "      <td>region</td>\n",
       "      <td>1</td>\n",
       "      <td>248956422</td>\n",
       "      <td>NaN</td>\n",
       "      <td>+</td>\n",
       "      <td>NaN</td>\n",
       "    </tr>\n",
       "    <tr>\n",
       "      <th>1</th>\n",
       "      <td>NC_000001.11</td>\n",
       "      <td>BestRefSeq</td>\n",
       "      <td>pseudogene</td>\n",
       "      <td>11874</td>\n",
       "      <td>14409</td>\n",
       "      <td>NaN</td>\n",
       "      <td>+</td>\n",
       "      <td>NaN</td>\n",
       "    </tr>\n",
       "    <tr>\n",
       "      <th>2</th>\n",
       "      <td>NC_000001.11</td>\n",
       "      <td>BestRefSeq</td>\n",
       "      <td>transcript</td>\n",
       "      <td>11874</td>\n",
       "      <td>14409</td>\n",
       "      <td>NaN</td>\n",
       "      <td>+</td>\n",
       "      <td>NaN</td>\n",
       "    </tr>\n",
       "    <tr>\n",
       "      <th>3</th>\n",
       "      <td>NC_000001.11</td>\n",
       "      <td>BestRefSeq</td>\n",
       "      <td>exon</td>\n",
       "      <td>11874</td>\n",
       "      <td>12227</td>\n",
       "      <td>NaN</td>\n",
       "      <td>+</td>\n",
       "      <td>NaN</td>\n",
       "    </tr>\n",
       "    <tr>\n",
       "      <th>4</th>\n",
       "      <td>NC_000001.11</td>\n",
       "      <td>BestRefSeq</td>\n",
       "      <td>exon</td>\n",
       "      <td>12613</td>\n",
       "      <td>12721</td>\n",
       "      <td>NaN</td>\n",
       "      <td>+</td>\n",
       "      <td>NaN</td>\n",
       "    </tr>\n",
       "  </tbody>\n",
       "</table>\n",
       "</div>"
      ],
      "text/plain": [
       "          Seqid      Source        Type  Start        End Score Strand Phase\n",
       "0  NC_000001.11      RefSeq      region      1  248956422   NaN      +   NaN\n",
       "1  NC_000001.11  BestRefSeq  pseudogene  11874      14409   NaN      +   NaN\n",
       "2  NC_000001.11  BestRefSeq  transcript  11874      14409   NaN      +   NaN\n",
       "3  NC_000001.11  BestRefSeq        exon  11874      12227   NaN      +   NaN\n",
       "4  NC_000001.11  BestRefSeq        exon  12613      12721   NaN      +   NaN"
      ]
     },
     "execution_count": 5,
     "metadata": {},
     "output_type": "execute_result"
    }
   ],
   "source": [
    "data.head()"
   ]
  },
  {
   "cell_type": "markdown",
   "id": "0bee01bd-dfbc-4547-9046-332c66d12971",
   "metadata": {},
   "source": [
    "Seqid - id последовательность, в нашем случае **NC_000001.11** - первая хромосома  \n",
    "Source - источник последовательности  \n",
    "Type - тип региона (ген, экзон, псевдоген и т.д.)  \n",
    "Start, End - начало и конец региона  \n",
    "Strand - цепочка ДНК (+ или -)  "
   ]
  },
  {
   "cell_type": "code",
   "execution_count": 6,
   "id": "a79d13af-22ea-49ff-ae79-59327029be7b",
   "metadata": {},
   "outputs": [],
   "source": [
    "exons = data[(data['Type']=='exon') & \n",
    "           (data['Seqid']=='NC_000001.11') & \n",
    "           (data['Source']=='BestRefSeq') &\n",
    "           (data['Strand']=='+')]\n",
    "\n",
    "\n",
    "cds = data[(data['Type']=='CDS') & \n",
    "           (data['Seqid']=='NC_000001.11') & \n",
    "           (data['Source']=='BestRefSeq') &\n",
    "           (data['Strand']=='+')]\n",
    "\n",
    "\n",
    "exons.loc[:, 'Start'] = exons.loc[:, 'Start'].astype('int')\n",
    "exons.loc[:, 'End'] = exons.loc[:, 'End'].astype('int')\n",
    "\n",
    "cds.loc[:, 'Start'] = cds.loc[:, 'Start'].astype('int')\n",
    "cds.loc[:, 'End'] = cds.loc[:, 'End'].astype('int')"
   ]
  },
  {
   "cell_type": "code",
   "execution_count": 7,
   "id": "3b362144-91d6-43b2-a5b1-71be3b02cf21",
   "metadata": {},
   "outputs": [
    {
     "data": {
      "text/html": [
       "<div>\n",
       "<style scoped>\n",
       "    .dataframe tbody tr th:only-of-type {\n",
       "        vertical-align: middle;\n",
       "    }\n",
       "\n",
       "    .dataframe tbody tr th {\n",
       "        vertical-align: top;\n",
       "    }\n",
       "\n",
       "    .dataframe thead th {\n",
       "        text-align: right;\n",
       "    }\n",
       "</style>\n",
       "<table border=\"1\" class=\"dataframe\">\n",
       "  <thead>\n",
       "    <tr style=\"text-align: right;\">\n",
       "      <th></th>\n",
       "      <th>Seqid</th>\n",
       "      <th>Source</th>\n",
       "      <th>Type</th>\n",
       "      <th>Start</th>\n",
       "      <th>End</th>\n",
       "      <th>Score</th>\n",
       "      <th>Strand</th>\n",
       "      <th>Phase</th>\n",
       "    </tr>\n",
       "  </thead>\n",
       "  <tbody>\n",
       "    <tr>\n",
       "      <th>50</th>\n",
       "      <td>NC_000001.11</td>\n",
       "      <td>BestRefSeq</td>\n",
       "      <td>CDS</td>\n",
       "      <td>65565</td>\n",
       "      <td>65573</td>\n",
       "      <td>NaN</td>\n",
       "      <td>+</td>\n",
       "      <td>0</td>\n",
       "    </tr>\n",
       "    <tr>\n",
       "      <th>51</th>\n",
       "      <td>NC_000001.11</td>\n",
       "      <td>BestRefSeq</td>\n",
       "      <td>CDS</td>\n",
       "      <td>69037</td>\n",
       "      <td>70008</td>\n",
       "      <td>NaN</td>\n",
       "      <td>+</td>\n",
       "      <td>0</td>\n",
       "    </tr>\n",
       "    <tr>\n",
       "      <th>557</th>\n",
       "      <td>NC_000001.11</td>\n",
       "      <td>BestRefSeq</td>\n",
       "      <td>CDS</td>\n",
       "      <td>924432</td>\n",
       "      <td>924948</td>\n",
       "      <td>NaN</td>\n",
       "      <td>+</td>\n",
       "      <td>0</td>\n",
       "    </tr>\n",
       "    <tr>\n",
       "      <th>558</th>\n",
       "      <td>NC_000001.11</td>\n",
       "      <td>BestRefSeq</td>\n",
       "      <td>CDS</td>\n",
       "      <td>925922</td>\n",
       "      <td>926013</td>\n",
       "      <td>NaN</td>\n",
       "      <td>+</td>\n",
       "      <td>2</td>\n",
       "    </tr>\n",
       "    <tr>\n",
       "      <th>559</th>\n",
       "      <td>NC_000001.11</td>\n",
       "      <td>BestRefSeq</td>\n",
       "      <td>CDS</td>\n",
       "      <td>930155</td>\n",
       "      <td>930336</td>\n",
       "      <td>NaN</td>\n",
       "      <td>+</td>\n",
       "      <td>0</td>\n",
       "    </tr>\n",
       "  </tbody>\n",
       "</table>\n",
       "</div>"
      ],
      "text/plain": [
       "            Seqid      Source Type   Start     End Score Strand Phase\n",
       "50   NC_000001.11  BestRefSeq  CDS   65565   65573   NaN      +     0\n",
       "51   NC_000001.11  BestRefSeq  CDS   69037   70008   NaN      +     0\n",
       "557  NC_000001.11  BestRefSeq  CDS  924432  924948   NaN      +     0\n",
       "558  NC_000001.11  BestRefSeq  CDS  925922  926013   NaN      +     2\n",
       "559  NC_000001.11  BestRefSeq  CDS  930155  930336   NaN      +     0"
      ]
     },
     "execution_count": 7,
     "metadata": {},
     "output_type": "execute_result"
    }
   ],
   "source": [
    "cds.head()"
   ]
  },
  {
   "cell_type": "code",
   "execution_count": 8,
   "id": "2f314fbd-8fd3-4c40-8bd9-156fd8765db9",
   "metadata": {},
   "outputs": [
    {
     "data": {
      "text/html": [
       "<div>\n",
       "<style scoped>\n",
       "    .dataframe tbody tr th:only-of-type {\n",
       "        vertical-align: middle;\n",
       "    }\n",
       "\n",
       "    .dataframe tbody tr th {\n",
       "        vertical-align: top;\n",
       "    }\n",
       "\n",
       "    .dataframe thead th {\n",
       "        text-align: right;\n",
       "    }\n",
       "</style>\n",
       "<table border=\"1\" class=\"dataframe\">\n",
       "  <thead>\n",
       "    <tr style=\"text-align: right;\">\n",
       "      <th></th>\n",
       "      <th>Seqid</th>\n",
       "      <th>Source</th>\n",
       "      <th>Type</th>\n",
       "      <th>Start</th>\n",
       "      <th>End</th>\n",
       "      <th>Score</th>\n",
       "      <th>Strand</th>\n",
       "      <th>Phase</th>\n",
       "    </tr>\n",
       "  </thead>\n",
       "  <tbody>\n",
       "    <tr>\n",
       "      <th>3</th>\n",
       "      <td>NC_000001.11</td>\n",
       "      <td>BestRefSeq</td>\n",
       "      <td>exon</td>\n",
       "      <td>11874</td>\n",
       "      <td>12227</td>\n",
       "      <td>NaN</td>\n",
       "      <td>+</td>\n",
       "      <td>NaN</td>\n",
       "    </tr>\n",
       "    <tr>\n",
       "      <th>4</th>\n",
       "      <td>NC_000001.11</td>\n",
       "      <td>BestRefSeq</td>\n",
       "      <td>exon</td>\n",
       "      <td>12613</td>\n",
       "      <td>12721</td>\n",
       "      <td>NaN</td>\n",
       "      <td>+</td>\n",
       "      <td>NaN</td>\n",
       "    </tr>\n",
       "    <tr>\n",
       "      <th>5</th>\n",
       "      <td>NC_000001.11</td>\n",
       "      <td>BestRefSeq</td>\n",
       "      <td>exon</td>\n",
       "      <td>13221</td>\n",
       "      <td>14409</td>\n",
       "      <td>NaN</td>\n",
       "      <td>+</td>\n",
       "      <td>NaN</td>\n",
       "    </tr>\n",
       "    <tr>\n",
       "      <th>35</th>\n",
       "      <td>NC_000001.11</td>\n",
       "      <td>BestRefSeq</td>\n",
       "      <td>exon</td>\n",
       "      <td>30366</td>\n",
       "      <td>30503</td>\n",
       "      <td>NaN</td>\n",
       "      <td>+</td>\n",
       "      <td>NaN</td>\n",
       "    </tr>\n",
       "    <tr>\n",
       "      <th>37</th>\n",
       "      <td>NC_000001.11</td>\n",
       "      <td>BestRefSeq</td>\n",
       "      <td>exon</td>\n",
       "      <td>30438</td>\n",
       "      <td>30458</td>\n",
       "      <td>NaN</td>\n",
       "      <td>+</td>\n",
       "      <td>NaN</td>\n",
       "    </tr>\n",
       "  </tbody>\n",
       "</table>\n",
       "</div>"
      ],
      "text/plain": [
       "           Seqid      Source  Type  Start    End Score Strand Phase\n",
       "3   NC_000001.11  BestRefSeq  exon  11874  12227   NaN      +   NaN\n",
       "4   NC_000001.11  BestRefSeq  exon  12613  12721   NaN      +   NaN\n",
       "5   NC_000001.11  BestRefSeq  exon  13221  14409   NaN      +   NaN\n",
       "35  NC_000001.11  BestRefSeq  exon  30366  30503   NaN      +   NaN\n",
       "37  NC_000001.11  BestRefSeq  exon  30438  30458   NaN      +   NaN"
      ]
     },
     "execution_count": 8,
     "metadata": {},
     "output_type": "execute_result"
    }
   ],
   "source": [
    "exons.head()"
   ]
  },
  {
   "cell_type": "code",
   "execution_count": 8,
   "id": "ddb71a8a-17f6-483e-b6bb-96a8eadd240e",
   "metadata": {},
   "outputs": [],
   "source": [
    "cds.to_csv('data/cds.csv', index=False)\n",
    "exons.to_csv('data/exons.csv', index=False)"
   ]
  }
 ],
 "metadata": {
  "kernelspec": {
   "display_name": "Python 3 (ipykernel)",
   "language": "python",
   "name": "python3"
  },
  "language_info": {
   "codemirror_mode": {
    "name": "ipython",
    "version": 3
   },
   "file_extension": ".py",
   "mimetype": "text/x-python",
   "name": "python",
   "nbconvert_exporter": "python",
   "pygments_lexer": "ipython3",
   "version": "3.10.11"
  }
 },
 "nbformat": 4,
 "nbformat_minor": 5
}
